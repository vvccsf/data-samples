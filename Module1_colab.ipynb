{
  "nbformat": 4,
  "nbformat_minor": 0,
  "metadata": {
    "kernelspec": {
      "display_name": "Python 3",
      "language": "python",
      "name": "python3"
    },
    "language_info": {
      "codemirror_mode": {
        "name": "ipython",
        "version": 3
      },
      "file_extension": ".py",
      "mimetype": "text/x-python",
      "name": "python",
      "nbconvert_exporter": "python",
      "pygments_lexer": "ipython3",
      "version": "3.7.1"
    },
    "colab": {
      "name": "Module1_colab.ipynb",
      "provenance": [],
      "include_colab_link": true
    }
  },
  "cells": [
    {
      "cell_type": "markdown",
      "metadata": {
        "id": "view-in-github",
        "colab_type": "text"
      },
      "source": [
        "<a href=\"https://colab.research.google.com/github/vvccsf/data-samples/blob/main/Module1_colab.ipynb\" target=\"_parent\"><img src=\"https://colab.research.google.com/assets/colab-badge.svg\" alt=\"Open In Colab\"/></a>"
      ]
    },
    {
      "cell_type": "markdown",
      "metadata": {
        "id": "hgZVXKidRoRT"
      },
      "source": [
        "![picture](https://images.pexels.com/photos/7191994/pexels-photo-7191994.jpeg?auto=compress&cs=tinysrgb&dpr=2&w=700&h=250&fit=crop)  \n",
        "Photo by SHVETS production from Pexels\n"
      ]
    },
    {
      "cell_type": "markdown",
      "metadata": {
        "id": "SdOKjwrynhF7"
      },
      "source": [
        "# APEX Faculty Training, Module 1: Colab Basics\n",
        "Created by Valerie Carr and Jaime Zuspann  \n",
        "Licensed under a Creative Commons license: CC BY-NC-SA   \n",
        "Last updated: Jan 29, 2022  \n",
        "\n",
        "**Learning outcomes**\n",
        "To learn how to use Google Colab to:\n",
        "1. Create text and code cells\n",
        "2. Format text\n",
        "3. Write simple code and view its output"
      ]
    },
    {
      "cell_type": "markdown",
      "metadata": {
        "id": "2Kjl_d_Pdxrw"
      },
      "source": [
        "## 0. Make a copy!\n",
        "This file is view only, meaning that you can't edit it. To create an editable copy, look towards the top of the notebook and click on `Copy to Drive`. This will cause a new tab to open with your own personal copy.\n",
        "\n",
        "If you want to refer back to your copy in the future, you can find it in Google Drive in a folder called `Colab Notebooks`."
      ]
    },
    {
      "cell_type": "markdown",
      "metadata": {
        "id": "2JRigyfbnhF8"
      },
      "source": [
        "## 1. Overview\n",
        "Colab allows you to combine both text and Python code in the same document. Each of these different elements is called a **cell**. When adding a new cell, you need to tell Colab if it should be a code cell or text cell. In this tutorial, you'll learn how to create new cells of each type."
      ]
    },
    {
      "cell_type": "markdown",
      "metadata": {
        "id": "wuYFNB77nhF8"
      },
      "source": [
        "## 2. Creating new cells\n",
        "Let's practice creating a new cell. There are two main ways you can do this: by clicking a button, or by using a keyboard shortcut. We'll focus on the first approach below.\n",
        "\n",
        "<font color='red'>Exercise 1</font>    \n",
        "* Single click on this cell so that you can see a rectangle around it\n",
        "* Hover your mouse directly over the bottom edge of the cell, in the center\n",
        "* You should see two buttons appear: One that says `+ Code` and one that says `+ Text`\n",
        "* Click `+ Text`, which will insert a text cell below this one.\n",
        "* For future reference: you can hover your mouse over the top edge of the cell (also in the center) to insert a new cell above, rather than below, the current cell\n",
        "\n",
        "You'll see that your new text cell is divided in two. You'll type on the left side of the cell and the right side will show you a preview of how things will look. Try it out in the next exercise.\n",
        "\n",
        "<font color='red'>Exercise 2</font>    \n",
        "* Type the answer to the following question: What's the last TV show that you watched, and what genre does it fall under (e.g., comedy, drama, reality tv, etc.)?\n",
        "* Next, use the italic button at the top of the cell to make the name of the show italic.\n",
        "* When you're done, hit `shift` and `enter` at the same time to \"run\" the cell. You should now see that everything looks nicely formatted!\n",
        "* If you want to go back and change anything, simply double click on the cell to make it editable, and then \"run\" the cell once you're done.\n",
        "\n",
        "Note: If you'd like to learn about keyboard shortcuts, go to the Colab drop-down menu called `Tools` and select `Keyboard shortcuts`. You'll see a long, long list that you should close for now by clicking `Cancel`, but it's helpful to know it's there."
      ]
    },
    {
      "cell_type": "markdown",
      "metadata": {
        "id": "IxCsAzksnhF9"
      },
      "source": [
        "## 3. Practice with text cells\n",
        "In this section, you'll learn how to change font size, make things bold or italic, create bulleted lists, include links, and insert images.\n",
        "\n",
        "### 3a. Changing font size (headings)\n",
        "In Colab, we use headings to determine font size. Heading 1 has the largest font size, heading 2 is smaller, and so on. The number of `#` symbols indicates the heading number. So, a single `#` symbol means heading 1, two `#` symbols means heading 2, and so on.  \n",
        "\n",
        "<font color='red'>Exercise 3</font>    \n",
        "In the cell below, I've written some text formatted as heading 1 and heading 2. Your job is to edit the cell and create a few new lines of text formatted as heading 3 and heading 4. To edit the cell, simply double click on it. Add new lines that use headings 3 and 4. Once you're done, hit `shift` + `enter`."
      ]
    },
    {
      "cell_type": "markdown",
      "metadata": {
        "id": "M-Hfe_jcnhF-"
      },
      "source": [
        "# Hello, this is heading 1\n",
        "## And this is heading 2"
      ]
    },
    {
      "cell_type": "markdown",
      "metadata": {
        "id": "v3401LSAdEm0"
      },
      "source": [
        "<font color='red'>Exercise 4</font>    \n",
        "Another way to accomplish the same thing is to use the button at the top of the cell that looks like two Ts. Try double clicking on this cell to make it \"editable\" so that you can see the formatting options. Insert a new line underneath this paragraph, and then hit the Ts button. Try hitting it again. And a third time. By hitting this button three times, you've created a line formatted as heading 3. I personally like typing better than using the formatting buttons, but either option is fine."
      ]
    },
    {
      "cell_type": "markdown",
      "metadata": {
        "id": "io4Yj2_Y2SQL"
      },
      "source": [
        "<font color='red'>Exercise 5</font>    \n",
        "You can also write in \"regular\" sized font (like what I've written in this cell), simply by *not* including any `#` symbols. To practice, start by inserting a new text cell below. Then, using heading 2 font size, write a short heading of your choosing. Beneath that, write a sentence in \"regular sized\" text. Finally, hit `shift` + `enter`."
      ]
    },
    {
      "cell_type": "markdown",
      "metadata": {
        "id": "vBulYdtneCj4"
      },
      "source": [
        "### 3b. Formatting text to look like code\n",
        "You can also format individual words or larger chunks of text to appear as code. For example, here, the words `shift` and `enter` are formatted as code by putting an accent mark on both sides of the words. (The accent mark is directly to the left of the number `1` key on your keyboard).\n",
        "\n",
        "To format a large chunk of text to look like code, you can wrap it between two sets of three accent marks. This approach can be useful when providing example code in a Colab notebook.\n",
        "```\n",
        "my_number = 17\n",
        "my_number + 1\n",
        "```\n",
        "\n",
        "<font color='red'>Exercise 6</font>  \n",
        "Double click on this cell to see how both of these approaches work (i.e., formatting single words vs. chunks of text). When you're ready to move on, hit `shift` + `enter`."
      ]
    },
    {
      "cell_type": "markdown",
      "metadata": {
        "id": "JWhSpv1rnhF_"
      },
      "source": [
        "### 3c. Bold and italic\n",
        "To make a word **bold**, you could use the B button among the formatting tools, or you could surround the word on both sides with two asterisks. To make a word *italic*, surround it on both sides with a single asterisk.\n",
        "\n",
        "<font color='red'>Exercise 7</font>  \n",
        "To practice writing text that includes bold and italic words, double click on this cell, insert a new line, and write a sentence of your choosing. Rather than use buttons, you should instead use asterisks to make a word bold, and another italic. Hit `shift` + `enter` once you're done."
      ]
    },
    {
      "cell_type": "markdown",
      "metadata": {
        "id": "s2OAr9winhF_"
      },
      "source": [
        "### 3d. Bulleted lists\n",
        "Bulleted lists can be created in text cells using a single asterisk at the start of line, followed by a space. You can then start another new line, and repeat the process. To indent a bullet point, simply hit tab, and then proceed as usual.\n",
        "\n",
        "<font color='red'>Exercise 8</font>  \n",
        "Double click on this cell to see how things are done.\n",
        "\n",
        "* Type your first point here\n",
        "* Then your second point\n",
        "    * My third point is indented\n",
        "        * My fourth point is even more indented\n",
        "* My fifth point is not\n",
        "\n",
        "Once you understand, \"run\" this cell to return to the nicely formatted view.\n",
        "\n",
        "<font color='red'>Exercise 9</font>  \n",
        "Next, insert a *new* text cell below to practice creating a bulleted list, including indentation. Specifically, create a list of the top three places you want to visit most in the future. Hit `shift` + `enter` once you're done."
      ]
    },
    {
      "cell_type": "markdown",
      "metadata": {
        "id": "ZHi0IQVh6i1e"
      },
      "source": [
        "### 3e. Links\n",
        "For the sake of time, we'll stick to using the link formatting button to create a link.\n",
        "\n",
        "<font color='red'>Exercise 10</font>  \n",
        "Start by double clicking on this cell, and then highlight the word Google and click on the link button. You should see a new section highlighted in gray. Immediately after the two slashes in this gray section, type `google.com`. In brief, the word that's now in brackets will be highlighted in blue, and the URL in parentheses is where you'll go if you click on the link. Finally, run the cell by hitting `shift` + `enter`."
      ]
    },
    {
      "cell_type": "markdown",
      "metadata": {
        "id": "XxALYygznhGA"
      },
      "source": [
        "### 3f. New lines\n",
        "\n",
        "<font color='red'>Exercise 11</font>  \n",
        "Insert a new text cell below and then write the word `hello` in regular text (i.e., don't use a pound sign). Then, hit enter to start a new line, and type the word `goodybe`. Look at your preview to the right. Everything was on the same line, right? To fix this issue, put two spaces at the end of the line with `hello`. Now each word should be on its own line in the preview. Hit `shift` + `enter` to run the cell."
      ]
    },
    {
      "cell_type": "markdown",
      "metadata": {
        "id": "9NZDu6mB_XFC"
      },
      "source": [
        "### 3g. Inserting images from the web\n",
        "Using the formatting button for inserting an image can sometimes lead to Colab crashing, so instead, today you'll do something safer: Display a freely available image on the web.\n",
        "\n",
        "<font color='red'>Exercise 12</font>  \n",
        "Start by double clicking this cell. Copy the link below, and then insert it in the parentheses after the word `picture`. Then, run the cell to see the image!  \n",
        "https://upload.wikimedia.org/wikipedia/commons/a/a4/Computed_tomography_of_human_brain_%2814%29.png  \n",
        "![picture]()"
      ]
    },
    {
      "cell_type": "markdown",
      "metadata": {
        "collapsed": true,
        "id": "4GVZUR-knhGA"
      },
      "source": [
        "## 4. Practice with code cells\n",
        "In this portion of this tutorial, we'll learn how to write code by using Python as a calculator.\n",
        "\n",
        "<font color='red'>Exercise 13</font>    \n",
        "Insert a code cell below, and write a simple mathematical problem. If you're curious, you can use the `*` symbol for multiplication and the `/` symbol for division. Finally, run your cell; you should see the output immediately underneath the cell."
      ]
    },
    {
      "cell_type": "markdown",
      "metadata": {
        "id": "PGKDsDC2eh-w"
      },
      "source": [
        "Note that code cells can also contain **comments**, which are lines of text that are *not* evaluated as code. Comments are used to write brief notes about specific lines of code, and are preceded by the `#` symbol. In the example below I've included a comment and some code.\n",
        "\n",
        "<font color='red'>Exercise 14</font>  \n",
        "Run the cell to see what happens."
      ]
    },
    {
      "cell_type": "code",
      "metadata": {
        "id": "2VZRVRfcnhGF",
        "colab": {
          "base_uri": "https://localhost:8080/"
        },
        "outputId": "4ed693e0-0a99-4e49-80d9-4b459bb13687"
      },
      "source": [
        "# This is a comment: 10 - 5\n",
        "10 - 2"
      ],
      "execution_count": null,
      "outputs": [
        {
          "output_type": "execute_result",
          "data": {
            "text/plain": [
              "8"
            ]
          },
          "metadata": {},
          "execution_count": 1
        }
      ]
    },
    {
      "cell_type": "markdown",
      "metadata": {
        "id": "ffBjaTBSnhGI"
      },
      "source": [
        "As you can see, the calculation in the *comment* wasn't actually run -- only the calculation in the code itself.\n",
        "\n",
        "<font color='red'>Exercise 15</font>    \n",
        "Insert a new code cell below, and write a comment and a simple calculation underneath it. Run your cell to see the result."
      ]
    },
    {
      "cell_type": "markdown",
      "metadata": {
        "id": "6Mx1WTScnhGJ"
      },
      "source": [
        "Finally, when it comes to writing text cells or writing comments, a good rule of thumb is as follows:\n",
        "* If you want to write longer, nicely formatted notes, you should use a text cell\n",
        "* If you want to write a very brief note (i.e., less than a sentence) that refers to a specific line of code, use a comment  \n",
        "\n",
        "As you start to learn how to program in Python, this distinction will become more clear."
      ]
    },
    {
      "cell_type": "markdown",
      "metadata": {
        "id": "Rmks3Xs5nhGK"
      },
      "source": [
        "## 5. Documenting your notebooks\n",
        "Note that, at the top of this notebook, I've included the following information. It is standard practice, both in the classroom and in the work place, to include this type documentation in all of your notebooks.\n",
        "\n",
        "* Title of the notebook\n",
        "* Who created the notebook\n",
        "* The date that the notebook was last updated\n",
        "* The learning outcomes or purpose"
      ]
    },
    {
      "cell_type": "markdown",
      "metadata": {
        "id": "6cQ9mSxICucc"
      },
      "source": [
        "## All done!\n",
        "You now know the basics of creating and updating Colab notebooks! In Module 2, we will begin learning the basics of programming in Python."
      ]
    }
  ]
}